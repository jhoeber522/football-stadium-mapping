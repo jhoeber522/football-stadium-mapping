{
 "cells": [
  {
   "cell_type": "code",
   "execution_count": 1,
   "metadata": {
    "collapsed": true
   },
   "outputs": [],
   "source": [
    "import pandas as pd\n",
    "from mpl_toolkits.basemap import Basemap\n",
    "import matplotlib.pyplot as plt\n",
    "import json\n",
    "# from pandas.io.json import json_normalize"
   ]
  },
  {
   "cell_type": "markdown",
   "metadata": {},
   "source": [
    "#1. Read in Football Stadium Data"
   ]
  },
  {
   "cell_type": "code",
   "execution_count": 2,
   "metadata": {
    "collapsed": false
   },
   "outputs": [],
   "source": [
    "with open('NFL_Stadiums.txt') as data_file:    \n",
    "    data = json.load(data_file)"
   ]
  },
  {
   "cell_type": "code",
   "execution_count": 3,
   "metadata": {
    "collapsed": false
   },
   "outputs": [],
   "source": [
    "# Create DataFrame df to store Football stadiums along with Latitude and Longitude\n",
    "df = pd.DataFrame(columns = ['Team', 'Latitude','Longitude'])"
   ]
  },
  {
   "cell_type": "code",
   "execution_count": 4,
   "metadata": {
    "collapsed": false
   },
   "outputs": [],
   "source": [
    "# Populate lists from json file containing NFL stadium data\n",
    "teams= []\n",
    "lat = []\n",
    "ltd = []\n",
    "for i in data['features']:\n",
    "    teams.append(i['properties']['Name'])\n",
    "    lat.append(i['geometry']['coordinates'][0])\n",
    "    ltd.append(i['geometry']['coordinates'][1])"
   ]
  },
  {
   "cell_type": "code",
   "execution_count": 5,
   "metadata": {
    "collapsed": false
   },
   "outputs": [],
   "source": [
    "# Populate df utilizing lists from previous step containing json NFL stadium data\n",
    "df.Team = teams\n",
    "df.Latitude = lat\n",
    "df.Longitude = ltd"
   ]
  },
  {
   "cell_type": "markdown",
   "metadata": {},
   "source": [
    "#2. Map Football Stadium Coordinates"
   ]
  },
  {
   "cell_type": "code",
   "execution_count": 6,
   "metadata": {
    "collapsed": true
   },
   "outputs": [],
   "source": [
    "map = Basemap(width=12000000, height= 9000000,  rsphere=(6378137.00,6356752.3142),\n",
    "            resolution='l',area_thresh=1000.,projection='lcc',\n",
    "            lat_1=45.,lat_2=55,lat_0=50,lon_0=-107.)"
   ]
  },
  {
   "cell_type": "code",
   "execution_count": 7,
   "metadata": {
    "collapsed": false
   },
   "outputs": [
    {
     "data": {
      "text/plain": [
       "[<matplotlib.patches.Polygon at 0xc4b5dd8>,\n",
       " <matplotlib.patches.Polygon at 0xd637ef0>,\n",
       " <matplotlib.patches.Polygon at 0xcb0a358>,\n",
       " <matplotlib.patches.Polygon at 0xc8df0b8>,\n",
       " <matplotlib.patches.Polygon at 0xd422b38>,\n",
       " <matplotlib.patches.Polygon at 0xc8ce5c0>,\n",
       " <matplotlib.patches.Polygon at 0xc8bba20>,\n",
       " <matplotlib.patches.Polygon at 0xd7387f0>,\n",
       " <matplotlib.patches.Polygon at 0xcb0aba8>,\n",
       " <matplotlib.patches.Polygon at 0xcb0afd0>,\n",
       " <matplotlib.patches.Polygon at 0xd5b9438>,\n",
       " <matplotlib.patches.Polygon at 0xd5b9860>,\n",
       " <matplotlib.patches.Polygon at 0xd5b9c88>,\n",
       " <matplotlib.patches.Polygon at 0xcaf40f0>,\n",
       " <matplotlib.patches.Polygon at 0xcaf4518>,\n",
       " <matplotlib.patches.Polygon at 0xcaf4940>,\n",
       " <matplotlib.patches.Polygon at 0xcaf4d68>,\n",
       " <matplotlib.patches.Polygon at 0xcb1c1d0>,\n",
       " <matplotlib.patches.Polygon at 0xcb1c5f8>,\n",
       " <matplotlib.patches.Polygon at 0xcb1ca20>,\n",
       " <matplotlib.patches.Polygon at 0xcb1ce48>,\n",
       " <matplotlib.patches.Polygon at 0xcb352b0>,\n",
       " <matplotlib.patches.Polygon at 0xcb356d8>,\n",
       " <matplotlib.patches.Polygon at 0xcb35b00>,\n",
       " <matplotlib.patches.Polygon at 0xcb35f28>,\n",
       " <matplotlib.patches.Polygon at 0xcb4c390>,\n",
       " <matplotlib.patches.Polygon at 0xcb4c7b8>,\n",
       " <matplotlib.patches.Polygon at 0xcb4cbe0>,\n",
       " <matplotlib.patches.Polygon at 0xcb4cf60>,\n",
       " <matplotlib.patches.Polygon at 0xd71f470>,\n",
       " <matplotlib.patches.Polygon at 0xd71f898>,\n",
       " <matplotlib.patches.Polygon at 0xd71fcc0>,\n",
       " <matplotlib.patches.Polygon at 0xd6f3128>,\n",
       " <matplotlib.patches.Polygon at 0xd6f3550>,\n",
       " <matplotlib.patches.Polygon at 0xd6f3978>,\n",
       " <matplotlib.patches.Polygon at 0xd6f3da0>,\n",
       " <matplotlib.patches.Polygon at 0xd70b208>,\n",
       " <matplotlib.patches.Polygon at 0xd70b630>,\n",
       " <matplotlib.patches.Polygon at 0xd70ba58>,\n",
       " <matplotlib.patches.Polygon at 0xd70be80>,\n",
       " <matplotlib.patches.Polygon at 0xd7272e8>,\n",
       " <matplotlib.patches.Polygon at 0xd727710>,\n",
       " <matplotlib.patches.Polygon at 0xd727b38>,\n",
       " <matplotlib.patches.Polygon at 0xd727f60>,\n",
       " <matplotlib.patches.Polygon at 0xdad03c8>,\n",
       " <matplotlib.patches.Polygon at 0xdad07f0>,\n",
       " <matplotlib.patches.Polygon at 0xdad0c18>,\n",
       " <matplotlib.patches.Polygon at 0xdad0f98>,\n",
       " <matplotlib.patches.Polygon at 0xdadb4a8>,\n",
       " <matplotlib.patches.Polygon at 0xdadb8d0>,\n",
       " <matplotlib.patches.Polygon at 0xdadbcf8>,\n",
       " <matplotlib.patches.Polygon at 0xdae9160>,\n",
       " <matplotlib.patches.Polygon at 0xdae9588>,\n",
       " <matplotlib.patches.Polygon at 0xdae99b0>,\n",
       " <matplotlib.patches.Polygon at 0xdae9dd8>,\n",
       " <matplotlib.patches.Polygon at 0xdaf8240>,\n",
       " <matplotlib.patches.Polygon at 0xdaf8668>,\n",
       " <matplotlib.patches.Polygon at 0xdaf8a90>,\n",
       " <matplotlib.patches.Polygon at 0xdaf8eb8>,\n",
       " <matplotlib.patches.Polygon at 0xdb45320>,\n",
       " <matplotlib.patches.Polygon at 0xdb45748>,\n",
       " <matplotlib.patches.Polygon at 0xdb45b70>,\n",
       " <matplotlib.patches.Polygon at 0xdb45f98>,\n",
       " <matplotlib.patches.Polygon at 0xdb52400>,\n",
       " <matplotlib.patches.Polygon at 0xdb52828>,\n",
       " <matplotlib.patches.Polygon at 0xdb52c50>,\n",
       " <matplotlib.patches.Polygon at 0xdb52fd0>,\n",
       " <matplotlib.patches.Polygon at 0xdb604e0>,\n",
       " <matplotlib.patches.Polygon at 0xdb60908>,\n",
       " <matplotlib.patches.Polygon at 0xdb60d30>,\n",
       " <matplotlib.patches.Polygon at 0xdb6d198>,\n",
       " <matplotlib.patches.Polygon at 0xdb6d5c0>,\n",
       " <matplotlib.patches.Polygon at 0xdb6d9e8>,\n",
       " <matplotlib.patches.Polygon at 0xdb6de10>,\n",
       " <matplotlib.patches.Polygon at 0xdb79278>,\n",
       " <matplotlib.patches.Polygon at 0xdb796a0>,\n",
       " <matplotlib.patches.Polygon at 0xdb79ac8>,\n",
       " <matplotlib.patches.Polygon at 0xdb79ef0>,\n",
       " <matplotlib.patches.Polygon at 0xd8e2358>,\n",
       " <matplotlib.patches.Polygon at 0xd8e2780>,\n",
       " <matplotlib.patches.Polygon at 0xd8e2ba8>,\n",
       " <matplotlib.patches.Polygon at 0xd8e2fd0>,\n",
       " <matplotlib.patches.Polygon at 0xd8f1438>,\n",
       " <matplotlib.patches.Polygon at 0xd8f1860>,\n",
       " <matplotlib.patches.Polygon at 0xd8f1c88>,\n",
       " <matplotlib.patches.Polygon at 0xd8fd0f0>,\n",
       " <matplotlib.patches.Polygon at 0xd8fd518>,\n",
       " <matplotlib.patches.Polygon at 0xd8fd940>,\n",
       " <matplotlib.patches.Polygon at 0xd8fdd68>,\n",
       " <matplotlib.patches.Polygon at 0xd90a1d0>,\n",
       " <matplotlib.patches.Polygon at 0xd90a5f8>,\n",
       " <matplotlib.patches.Polygon at 0xd90aa20>,\n",
       " <matplotlib.patches.Polygon at 0xd90ae48>,\n",
       " <matplotlib.patches.Polygon at 0xd9172b0>,\n",
       " <matplotlib.patches.Polygon at 0xd9176d8>,\n",
       " <matplotlib.patches.Polygon at 0xd917b00>,\n",
       " <matplotlib.patches.Polygon at 0xd917f28>,\n",
       " <matplotlib.patches.Polygon at 0xd925390>,\n",
       " <matplotlib.patches.Polygon at 0xd9257b8>,\n",
       " <matplotlib.patches.Polygon at 0xd925be0>,\n",
       " <matplotlib.patches.Polygon at 0xd925f60>,\n",
       " <matplotlib.patches.Polygon at 0xd933470>,\n",
       " <matplotlib.patches.Polygon at 0xd933898>,\n",
       " <matplotlib.patches.Polygon at 0xd933cc0>,\n",
       " <matplotlib.patches.Polygon at 0xd940128>,\n",
       " <matplotlib.patches.Polygon at 0xd940550>,\n",
       " <matplotlib.patches.Polygon at 0xd940978>,\n",
       " <matplotlib.patches.Polygon at 0xd940da0>,\n",
       " <matplotlib.patches.Polygon at 0xd94d208>,\n",
       " <matplotlib.patches.Polygon at 0xd94d630>,\n",
       " <matplotlib.patches.Polygon at 0xd94da58>,\n",
       " <matplotlib.patches.Polygon at 0xd94de80>,\n",
       " <matplotlib.patches.Polygon at 0xd9592e8>,\n",
       " <matplotlib.patches.Polygon at 0xd959710>,\n",
       " <matplotlib.patches.Polygon at 0xd959b38>,\n",
       " <matplotlib.patches.Polygon at 0xd959f60>,\n",
       " <matplotlib.patches.Polygon at 0xdc4f3c8>,\n",
       " <matplotlib.patches.Polygon at 0xdc4f7f0>,\n",
       " <matplotlib.patches.Polygon at 0xdc4fc18>,\n",
       " <matplotlib.patches.Polygon at 0xdc4ff98>,\n",
       " <matplotlib.patches.Polygon at 0xdc5a4a8>,\n",
       " <matplotlib.patches.Polygon at 0xdc5a8d0>,\n",
       " <matplotlib.patches.Polygon at 0xdc5acf8>,\n",
       " <matplotlib.patches.Polygon at 0xdc68160>,\n",
       " <matplotlib.patches.Polygon at 0xdc68588>,\n",
       " <matplotlib.patches.Polygon at 0xdc689b0>,\n",
       " <matplotlib.patches.Polygon at 0xdc68dd8>,\n",
       " <matplotlib.patches.Polygon at 0xdc74240>,\n",
       " <matplotlib.patches.Polygon at 0xdc74668>,\n",
       " <matplotlib.patches.Polygon at 0xdc74a90>,\n",
       " <matplotlib.patches.Polygon at 0xdc74eb8>,\n",
       " <matplotlib.patches.Polygon at 0xdc84320>,\n",
       " <matplotlib.patches.Polygon at 0xdc84748>,\n",
       " <matplotlib.patches.Polygon at 0xdc84b70>,\n",
       " <matplotlib.patches.Polygon at 0xdc84f98>,\n",
       " <matplotlib.patches.Polygon at 0xdc91400>,\n",
       " <matplotlib.patches.Polygon at 0xdc91828>,\n",
       " <matplotlib.patches.Polygon at 0xdc91c50>,\n",
       " <matplotlib.patches.Polygon at 0xdc91fd0>,\n",
       " <matplotlib.patches.Polygon at 0xdca04e0>,\n",
       " <matplotlib.patches.Polygon at 0xdca0908>,\n",
       " <matplotlib.patches.Polygon at 0xdca0d30>,\n",
       " <matplotlib.patches.Polygon at 0xdcad198>,\n",
       " <matplotlib.patches.Polygon at 0xdcad5c0>,\n",
       " <matplotlib.patches.Polygon at 0xdcad9e8>,\n",
       " <matplotlib.patches.Polygon at 0xdcade10>,\n",
       " <matplotlib.patches.Polygon at 0xdcbb278>,\n",
       " <matplotlib.patches.Polygon at 0xdcbb6a0>,\n",
       " <matplotlib.patches.Polygon at 0xdcbbac8>,\n",
       " <matplotlib.patches.Polygon at 0xdcbbef0>,\n",
       " <matplotlib.patches.Polygon at 0xda7c358>,\n",
       " <matplotlib.patches.Polygon at 0xda7c780>,\n",
       " <matplotlib.patches.Polygon at 0xda7cba8>,\n",
       " <matplotlib.patches.Polygon at 0xda7cfd0>,\n",
       " <matplotlib.patches.Polygon at 0xda8c438>,\n",
       " <matplotlib.patches.Polygon at 0xda8c860>,\n",
       " <matplotlib.patches.Polygon at 0xda8cc88>,\n",
       " <matplotlib.patches.Polygon at 0xda980f0>,\n",
       " <matplotlib.patches.Polygon at 0xda98518>,\n",
       " <matplotlib.patches.Polygon at 0xda98940>,\n",
       " <matplotlib.patches.Polygon at 0xda98d68>,\n",
       " <matplotlib.patches.Polygon at 0xdaa71d0>,\n",
       " <matplotlib.patches.Polygon at 0xdaa75f8>,\n",
       " <matplotlib.patches.Polygon at 0xdaa7a20>,\n",
       " <matplotlib.patches.Polygon at 0xdaa7e48>,\n",
       " <matplotlib.patches.Polygon at 0xde032b0>,\n",
       " <matplotlib.patches.Polygon at 0xde036d8>,\n",
       " <matplotlib.patches.Polygon at 0xde03b00>,\n",
       " <matplotlib.patches.Polygon at 0xde03f28>,\n",
       " <matplotlib.patches.Polygon at 0xde12390>,\n",
       " <matplotlib.patches.Polygon at 0xde127b8>,\n",
       " <matplotlib.patches.Polygon at 0xde12be0>,\n",
       " <matplotlib.patches.Polygon at 0xde12f60>,\n",
       " <matplotlib.patches.Polygon at 0xde1f470>,\n",
       " <matplotlib.patches.Polygon at 0xde1f898>,\n",
       " <matplotlib.patches.Polygon at 0xde1fcc0>,\n",
       " <matplotlib.patches.Polygon at 0xde2f128>,\n",
       " <matplotlib.patches.Polygon at 0xde2f550>,\n",
       " <matplotlib.patches.Polygon at 0xde2f978>,\n",
       " <matplotlib.patches.Polygon at 0xde2fda0>]"
      ]
     },
     "execution_count": 7,
     "metadata": {},
     "output_type": "execute_result"
    }
   ],
   "source": [
    "map.drawmapboundary(fill_color='aqua')\n",
    "map.fillcontinents(color='#ddaa66', lake_color='aqua')"
   ]
  },
  {
   "cell_type": "code",
   "execution_count": 8,
   "metadata": {
    "collapsed": false
   },
   "outputs": [
    {
     "data": {
      "text/plain": [
       "<matplotlib.collections.LineCollection at 0xd738ba8>"
      ]
     },
     "execution_count": 8,
     "metadata": {},
     "output_type": "execute_result"
    }
   ],
   "source": [
    "map.drawcountries()\n",
    "map.drawstates(color='0.5')"
   ]
  },
  {
   "cell_type": "code",
   "execution_count": 9,
   "metadata": {
    "collapsed": false
   },
   "outputs": [],
   "source": [
    "# Function Plot_Stadiums plots each Stadium along with data points passed to it\n",
    "def Plot_Stadiums(team, lat, ltd):\n",
    "    x,y = map(lat, ltd)\n",
    "    plt.annotate(team, xy=(x, y),  xycoords='data',\n",
    "                xytext=(-87, 45), \n",
    "                textcoords='offset points',\n",
    "                color='r',\n",
    "                arrowprops=dict(arrowstyle=\"fancy\", color='g'))\n",
    "                                           "
   ]
  },
  {
   "cell_type": "code",
   "execution_count": 10,
   "metadata": {
    "collapsed": false
   },
   "outputs": [],
   "source": [
    "# Pass all rows of df to Plot_Stadiums function\n",
    "for index, row in df.iterrows():\n",
    "    Plot_Stadiums(row.Team, row.Latitude, row.Longitude)"
   ]
  },
  {
   "cell_type": "code",
   "execution_count": 13,
   "metadata": {
    "collapsed": false
   },
   "outputs": [],
   "source": [
    "plt.show()"
   ]
  },
  {
   "cell_type": "code",
   "execution_count": null,
   "metadata": {
    "collapsed": true
   },
   "outputs": [],
   "source": []
  }
 ],
 "metadata": {
  "kernelspec": {
   "display_name": "Python 2",
   "language": "python",
   "name": "python2"
  },
  "language_info": {
   "codemirror_mode": {
    "name": "ipython",
    "version": 2
   },
   "file_extension": ".py",
   "mimetype": "text/x-python",
   "name": "python",
   "nbconvert_exporter": "python",
   "pygments_lexer": "ipython2",
   "version": "2.7.9"
  }
 },
 "nbformat": 4,
 "nbformat_minor": 0
}
